{
 "cells": [
  {
   "cell_type": "markdown",
   "metadata": {},
   "source": [
    "# Challenge 2: Sentiment Analysis\n",
    "\n",
    "In this challenge we will learn sentiment analysis and practice performing sentiment analysis on Twitter tweets. \n",
    "\n",
    "## Introduction\n",
    "\n",
    "Sentiment analysis is to *systematically identify, extract, quantify, and study affective states and subjective information* based on texts ([reference](https://en.wikipedia.org/wiki/Sentiment_analysis)). In simple words, it's to understand whether a person is happy or unhappy in producing the piece of text. Why we (or rather, companies) care about sentiment in texts? It's because by understanding the sentiments in texts, we will be able to know if our customers are happy or unhappy about our products and services. If they are unhappy, the subsequent action is to figure out what have caused the unhappiness and make improvements.\n",
    "\n",
    "Basic sentiment analysis only understands the *positive* or *negative* (sometimes *neutral* too) polarities of the sentiment. More advanced sentiment analysis will also consider dimensions such as agreement, subjectivity, confidence, irony, and so on. In this challenge we will conduct the basic positive vs negative sentiment analysis based on real Twitter tweets.\n",
    "\n",
    "NLTK comes with a [sentiment analysis package](https://www.nltk.org/api/nltk.sentiment.html). This package is great for dummies to perform sentiment analysis because it requires only the textual data to make predictions. For example:\n",
    "\n",
    "```python\n",
    ">>> from nltk.sentiment.vader import SentimentIntensityAnalyzer\n",
    ">>> txt = \"Ironhack is a Global Tech School ranked num 2 worldwide.  ",
    " ",
    "Our mission is to help people transform their careers and join a thriving community of tech professionals that love what they do.\"\n",
    ">>> analyzer = SentimentIntensityAnalyzer()\n",
    ">>> analyzer.polarity_scores(txt)\n",
    "{'neg': 0.0, 'neu': 0.741, 'pos': 0.259, 'compound': 0.8442}\n",
    "```\n",
    "\n",
    "In this challenge, however, you will not use NLTK's sentiment analysis package because in your Machine Learning training in the past 2 weeks you have learned how to make predictions more accurate than that. The [tweets data](https://www.kaggle.com/kazanova/sentiment140) we will be using today are already coded for the positive/negative sentiment. You will be able to use the Naïve Bayes classifier you learned in the lesson to predict the sentiment of tweets based on the labels."
   ]
  },
  {
   "cell_type": "markdown",
   "metadata": {},
   "source": [
    "## Conducting Sentiment Analysis\n",
    "\n",
    "### Loading and Exploring Data\n",
    "\n",
    "The dataset we'll be using today is located on Kaggle (https://www.kaggle.com/kazanova/sentiment140). Once you have downloaded and imported the dataset, it you will need to define the columns names: df.columns = ['target','id','date','flag','user','text']\n",
    "\n",
    "*Notes:* \n",
    "\n",
    "* The dataset is huuuuge (1.6m tweets). When you develop your data analysis codes, you can sample a subset of the data (e.g. 20k records) so that you will save a lot of time when you test your codes."
   ]
  },
  {
   "cell_type": "code",
   "execution_count": 1,
   "metadata": {},
   "outputs": [],
   "source": [
    "import re \n",
    "import pandas as pd\n",
    "import numpy as np"
   ]
  },
  {
   "cell_type": "code",
   "execution_count": 3,
   "metadata": {},
   "outputs": [],
   "source": [
    "df = pd.read_csv(\"C:\\\\Users\\\\franc\\\\OneDrive\\\\Área de Trabalho\\\\Data Analytics\\\\Week 2\\\\8.04 Natural Language Processing\\\\training.1600000.processed.noemoticon.csv\", encoding='ISO-8859-1'\n",
    ", header = None)"
   ]
  },
  {
   "cell_type": "code",
   "execution_count": 4,
   "metadata": {},
   "outputs": [],
   "source": [
    "df = df.sample(n=10000)"
   ]
  },
  {
   "cell_type": "code",
   "execution_count": 5,
   "metadata": {},
   "outputs": [],
   "source": [
    "df.columns = ['target','id','date','flag','user','text']"
   ]
  },
  {
   "cell_type": "code",
   "execution_count": 6,
   "metadata": {},
   "outputs": [
    {
     "data": {
      "text/html": [
       "<div>\n",
       "<style scoped>\n",
       "    .dataframe tbody tr th:only-of-type {\n",
       "        vertical-align: middle;\n",
       "    }\n",
       "\n",
       "    .dataframe tbody tr th {\n",
       "        vertical-align: top;\n",
       "    }\n",
       "\n",
       "    .dataframe thead th {\n",
       "        text-align: right;\n",
       "    }\n",
       "</style>\n",
       "<table border=\"1\" class=\"dataframe\">\n",
       "  <thead>\n",
       "    <tr style=\"text-align: right;\">\n",
       "      <th></th>\n",
       "      <th>target</th>\n",
       "      <th>id</th>\n",
       "      <th>date</th>\n",
       "      <th>flag</th>\n",
       "      <th>user</th>\n",
       "      <th>text</th>\n",
       "    </tr>\n",
       "  </thead>\n",
       "  <tbody>\n",
       "    <tr>\n",
       "      <th>1257269</th>\n",
       "      <td>4</td>\n",
       "      <td>1997675975</td>\n",
       "      <td>Mon Jun 01 17:15:50 PDT 2009</td>\n",
       "      <td>NO_QUERY</td>\n",
       "      <td>alanajoy</td>\n",
       "      <td>@nsikub I don't! Nor do I think it would be ef...</td>\n",
       "    </tr>\n",
       "    <tr>\n",
       "      <th>103587</th>\n",
       "      <td>0</td>\n",
       "      <td>1795751591</td>\n",
       "      <td>Thu May 14 08:18:32 PDT 2009</td>\n",
       "      <td>NO_QUERY</td>\n",
       "      <td>delhidreams</td>\n",
       "      <td>pathan &amp;amp; warne versus sachin. whom should ...</td>\n",
       "    </tr>\n",
       "    <tr>\n",
       "      <th>888473</th>\n",
       "      <td>4</td>\n",
       "      <td>1687307796</td>\n",
       "      <td>Sun May 03 08:20:41 PDT 2009</td>\n",
       "      <td>NO_QUERY</td>\n",
       "      <td>jess2908</td>\n",
       "      <td>chillin watchin youtube videos</td>\n",
       "    </tr>\n",
       "    <tr>\n",
       "      <th>748317</th>\n",
       "      <td>0</td>\n",
       "      <td>2284261239</td>\n",
       "      <td>Mon Jun 22 13:39:57 PDT 2009</td>\n",
       "      <td>NO_QUERY</td>\n",
       "      <td>Tiff888</td>\n",
       "      <td>intensely dislike that i portioned out some ba...</td>\n",
       "    </tr>\n",
       "    <tr>\n",
       "      <th>187078</th>\n",
       "      <td>0</td>\n",
       "      <td>1968486159</td>\n",
       "      <td>Fri May 29 21:32:18 PDT 2009</td>\n",
       "      <td>NO_QUERY</td>\n",
       "      <td>CatMeagher</td>\n",
       "      <td>go lakers! also my neighbors are TOO loud. i g...</td>\n",
       "    </tr>\n",
       "    <tr>\n",
       "      <th>...</th>\n",
       "      <td>...</td>\n",
       "      <td>...</td>\n",
       "      <td>...</td>\n",
       "      <td>...</td>\n",
       "      <td>...</td>\n",
       "      <td>...</td>\n",
       "    </tr>\n",
       "    <tr>\n",
       "      <th>926727</th>\n",
       "      <td>4</td>\n",
       "      <td>1755742443</td>\n",
       "      <td>Sun May 10 09:54:45 PDT 2009</td>\n",
       "      <td>NO_QUERY</td>\n",
       "      <td>sammijmb</td>\n",
       "      <td>@stephenfry Heee - loving your work Stephen!</td>\n",
       "    </tr>\n",
       "    <tr>\n",
       "      <th>85177</th>\n",
       "      <td>0</td>\n",
       "      <td>1753781590</td>\n",
       "      <td>Sun May 10 03:25:08 PDT 2009</td>\n",
       "      <td>NO_QUERY</td>\n",
       "      <td>_merle</td>\n",
       "      <td>missing my sister  can't imagine my birthday w...</td>\n",
       "    </tr>\n",
       "    <tr>\n",
       "      <th>1225980</th>\n",
       "      <td>4</td>\n",
       "      <td>1990769076</td>\n",
       "      <td>Mon Jun 01 05:41:58 PDT 2009</td>\n",
       "      <td>NO_QUERY</td>\n",
       "      <td>JK85</td>\n",
       "      <td>Just ripped Slumdog Millionaire &amp;amp; The Wres...</td>\n",
       "    </tr>\n",
       "    <tr>\n",
       "      <th>1384428</th>\n",
       "      <td>4</td>\n",
       "      <td>2052658358</td>\n",
       "      <td>Sat Jun 06 01:31:23 PDT 2009</td>\n",
       "      <td>NO_QUERY</td>\n",
       "      <td>tweet4kaash</td>\n",
       "      <td>News flash....ReeRee is in the house.  Come si...</td>\n",
       "    </tr>\n",
       "    <tr>\n",
       "      <th>1015388</th>\n",
       "      <td>4</td>\n",
       "      <td>1881554829</td>\n",
       "      <td>Fri May 22 04:58:43 PDT 2009</td>\n",
       "      <td>NO_QUERY</td>\n",
       "      <td>danwebbage</td>\n",
       "      <td>@GirlsWithWings I packed both black and brown,...</td>\n",
       "    </tr>\n",
       "  </tbody>\n",
       "</table>\n",
       "<p>10000 rows × 6 columns</p>\n",
       "</div>"
      ],
      "text/plain": [
       "         target          id                          date      flag  \\\n",
       "1257269       4  1997675975  Mon Jun 01 17:15:50 PDT 2009  NO_QUERY   \n",
       "103587        0  1795751591  Thu May 14 08:18:32 PDT 2009  NO_QUERY   \n",
       "888473        4  1687307796  Sun May 03 08:20:41 PDT 2009  NO_QUERY   \n",
       "748317        0  2284261239  Mon Jun 22 13:39:57 PDT 2009  NO_QUERY   \n",
       "187078        0  1968486159  Fri May 29 21:32:18 PDT 2009  NO_QUERY   \n",
       "...         ...         ...                           ...       ...   \n",
       "926727        4  1755742443  Sun May 10 09:54:45 PDT 2009  NO_QUERY   \n",
       "85177         0  1753781590  Sun May 10 03:25:08 PDT 2009  NO_QUERY   \n",
       "1225980       4  1990769076  Mon Jun 01 05:41:58 PDT 2009  NO_QUERY   \n",
       "1384428       4  2052658358  Sat Jun 06 01:31:23 PDT 2009  NO_QUERY   \n",
       "1015388       4  1881554829  Fri May 22 04:58:43 PDT 2009  NO_QUERY   \n",
       "\n",
       "                user                                               text  \n",
       "1257269     alanajoy  @nsikub I don't! Nor do I think it would be ef...  \n",
       "103587   delhidreams  pathan &amp; warne versus sachin. whom should ...  \n",
       "888473      jess2908                    chillin watchin youtube videos   \n",
       "748317       Tiff888  intensely dislike that i portioned out some ba...  \n",
       "187078    CatMeagher  go lakers! also my neighbors are TOO loud. i g...  \n",
       "...              ...                                                ...  \n",
       "926727      sammijmb      @stephenfry Heee - loving your work Stephen!   \n",
       "85177         _merle  missing my sister  can't imagine my birthday w...  \n",
       "1225980         JK85  Just ripped Slumdog Millionaire &amp; The Wres...  \n",
       "1384428  tweet4kaash  News flash....ReeRee is in the house.  Come si...  \n",
       "1015388   danwebbage  @GirlsWithWings I packed both black and brown,...  \n",
       "\n",
       "[10000 rows x 6 columns]"
      ]
     },
     "execution_count": 6,
     "metadata": {},
     "output_type": "execute_result"
    }
   ],
   "source": [
    "df"
   ]
  },
  {
   "cell_type": "markdown",
   "metadata": {},
   "source": [
    "### Prepare Textual Data for Sentiment Analysis\n",
    "\n",
    "Now, apply the functions you have written in Challenge 1 to your whole data set. These functions include:\n",
    "\n",
    "* `clean_up()`\n",
    "\n",
    "* `tokenize()`\n",
    "\n",
    "* `stem_and_lemmatize()`\n",
    "\n",
    "* `remove_stopwords()`\n",
    "\n",
    "Create a new column called `text_processed` in the dataframe to contain the processed data. At the end, your `text_processed` column should contain lists of word tokens that are cleaned up. Your data should look like below:\n",
    "\n",
    "i![Processed Data](data-cleaning-results.png)"
   ]
  },
  {
   "cell_type": "code",
   "execution_count": 7,
   "metadata": {},
   "outputs": [
    {
     "name": "stderr",
     "output_type": "stream",
     "text": [
      "[nltk_data] Downloading package punkt to\n",
      "[nltk_data]     C:\\Users\\franc\\AppData\\Roaming\\nltk_data...\n",
      "[nltk_data]   Package punkt is already up-to-date!\n",
      "[nltk_data] Downloading package wordnet to\n",
      "[nltk_data]     C:\\Users\\franc\\AppData\\Roaming\\nltk_data...\n",
      "[nltk_data]   Package wordnet is already up-to-date!\n",
      "[nltk_data] Downloading package stopwords to\n",
      "[nltk_data]     C:\\Users\\franc\\AppData\\Roaming\\nltk_data...\n",
      "[nltk_data]   Package stopwords is already up-to-date!\n"
     ]
    }
   ],
   "source": [
    "\n",
    "\n",
    "def clean_up(s):\n",
    "    \n",
    "    special = '\\W'\n",
    "    url = 'http://*[\\S]{1,}'\n",
    "    num = '\\d' \n",
    "    \n",
    "    s = re.sub(url, \"\", s)\n",
    "    s = re.sub(num, \"\", s)\n",
    "    s = re.sub(special, \" \", s)\n",
    "    \n",
    "    s = s.lower()\n",
    "\n",
    "    return s\n",
    "\n",
    "\n",
    "from nltk.tokenize import word_tokenize\n",
    "import nltk\n",
    "import ssl\n",
    "try:\n",
    "    _create_unverified_https_context = ssl._create_unverified_context\n",
    "except AttributeError:\n",
    "    pass\n",
    "else:\n",
    "    ssl._create_default_https_context = _create_unverified_https_context\n",
    "\n",
    "nltk.download('punkt')\n",
    "\n",
    "def tokenize(s):\n",
    "\n",
    "    tokens = word_tokenize(s)\n",
    "    return tokens\n",
    "\n",
    "from nltk.stem import SnowballStemmer\n",
    "from nltk.stem import WordNetLemmatizer \n",
    "from nltk.corpus import wordnet\n",
    "nltk.download('wordnet') # wordnet is the most well known lemmatizer for english\n",
    "\n",
    "def stem_and_lemmatize(l):\n",
    "    \n",
    "    sb = SnowballStemmer('english')\n",
    "    stemmed = [sb.stem(word) for word in l]\n",
    "\n",
    "    lemmatizer = WordNetLemmatizer() \n",
    "    lemmatized = [lemmatizer.lemmatize(word) for word in stemmed]\n",
    "\n",
    "    return lemmatized\n",
    "\n",
    "\n",
    "from nltk.corpus import stopwords\n",
    "nltk.download('stopwords')\n",
    "\n",
    "def remove_stopwords(l):\n",
    "    stopwords.words('english')\n",
    "    without_sw = [word for word in l if not word in stopwords.words()]\n",
    "    \" \".join(without_sw)\n",
    "\n",
    "    return without_sw\n"
   ]
  },
  {
   "cell_type": "code",
   "execution_count": 8,
   "metadata": {},
   "outputs": [],
   "source": [
    "df['text_processed'] = df['text'].apply(clean_up)"
   ]
  },
  {
   "cell_type": "code",
   "execution_count": 9,
   "metadata": {},
   "outputs": [],
   "source": [
    "df['text_processed'] = df['text_processed'].apply(tokenize)"
   ]
  },
  {
   "cell_type": "code",
   "execution_count": 10,
   "metadata": {},
   "outputs": [],
   "source": [
    "df['text_processed'] = df['text_processed'].apply(stem_and_lemmatize)"
   ]
  },
  {
   "cell_type": "code",
   "execution_count": null,
   "metadata": {},
   "outputs": [],
   "source": [
    "df['text_processed'] = df['text_processed'].apply(remove_stopwords)"
   ]
  },
  {
   "cell_type": "code",
   "execution_count": 637,
   "metadata": {},
   "outputs": [
    {
     "data": {
      "text/html": [
       "<div>\n",
       "<style scoped>\n",
       "    .dataframe tbody tr th:only-of-type {\n",
       "        vertical-align: middle;\n",
       "    }\n",
       "\n",
       "    .dataframe tbody tr th {\n",
       "        vertical-align: top;\n",
       "    }\n",
       "\n",
       "    .dataframe thead th {\n",
       "        text-align: right;\n",
       "    }\n",
       "</style>\n",
       "<table border=\"1\" class=\"dataframe\">\n",
       "  <thead>\n",
       "    <tr style=\"text-align: right;\">\n",
       "      <th></th>\n",
       "      <th>target</th>\n",
       "      <th>id</th>\n",
       "      <th>date</th>\n",
       "      <th>flag</th>\n",
       "      <th>user</th>\n",
       "      <th>text</th>\n",
       "      <th>text_processed</th>\n",
       "    </tr>\n",
       "  </thead>\n",
       "  <tbody>\n",
       "    <tr>\n",
       "      <th>0</th>\n",
       "      <td>0</td>\n",
       "      <td>1467810369</td>\n",
       "      <td>Mon Apr 06 22:19:45 PDT 2009</td>\n",
       "      <td>NO_QUERY</td>\n",
       "      <td>_TheSpecialOne_</td>\n",
       "      <td>@switchfoot http://twitpic.com/2y1zl - Awww, t...</td>\n",
       "      <td>[switchfoot, awww, bummer, shoulda, got, david...</td>\n",
       "    </tr>\n",
       "    <tr>\n",
       "      <th>1</th>\n",
       "      <td>0</td>\n",
       "      <td>1467810672</td>\n",
       "      <td>Mon Apr 06 22:19:49 PDT 2009</td>\n",
       "      <td>NO_QUERY</td>\n",
       "      <td>scotthamilton</td>\n",
       "      <td>is upset that he can't update his Facebook by ...</td>\n",
       "      <td>[upset, updat, facebook, text, might, cri, res...</td>\n",
       "    </tr>\n",
       "    <tr>\n",
       "      <th>2</th>\n",
       "      <td>0</td>\n",
       "      <td>1467810917</td>\n",
       "      <td>Mon Apr 06 22:19:53 PDT 2009</td>\n",
       "      <td>NO_QUERY</td>\n",
       "      <td>mattycus</td>\n",
       "      <td>@Kenichan I dived many times for the ball. Man...</td>\n",
       "      <td>[kenichan, dive, mani, time, ball, manag, save...</td>\n",
       "    </tr>\n",
       "    <tr>\n",
       "      <th>3</th>\n",
       "      <td>0</td>\n",
       "      <td>1467811184</td>\n",
       "      <td>Mon Apr 06 22:19:57 PDT 2009</td>\n",
       "      <td>NO_QUERY</td>\n",
       "      <td>ElleCTF</td>\n",
       "      <td>my whole body feels itchy and like its on fire</td>\n",
       "      <td>[whole, feel, itchi, like, fire]</td>\n",
       "    </tr>\n",
       "    <tr>\n",
       "      <th>4</th>\n",
       "      <td>0</td>\n",
       "      <td>1467811193</td>\n",
       "      <td>Mon Apr 06 22:19:57 PDT 2009</td>\n",
       "      <td>NO_QUERY</td>\n",
       "      <td>Karoli</td>\n",
       "      <td>@nationwideclass no, it's not behaving at all....</td>\n",
       "      <td>[nationwideclass, behav, mad, whi, becaus, see]</td>\n",
       "    </tr>\n",
       "    <tr>\n",
       "      <th>...</th>\n",
       "      <td>...</td>\n",
       "      <td>...</td>\n",
       "      <td>...</td>\n",
       "      <td>...</td>\n",
       "      <td>...</td>\n",
       "      <td>...</td>\n",
       "      <td>...</td>\n",
       "    </tr>\n",
       "    <tr>\n",
       "      <th>995</th>\n",
       "      <td>0</td>\n",
       "      <td>1468055262</td>\n",
       "      <td>Mon Apr 06 23:28:39 PDT 2009</td>\n",
       "      <td>NO_QUERY</td>\n",
       "      <td>LarryEisner</td>\n",
       "      <td>@dkoenigs thanks man.  I'm so very grateful.  ...</td>\n",
       "      <td>[dkoenig, thank, veri, grate, feel, unworthi, ...</td>\n",
       "    </tr>\n",
       "    <tr>\n",
       "      <th>996</th>\n",
       "      <td>0</td>\n",
       "      <td>1468055266</td>\n",
       "      <td>Mon Apr 06 23:28:41 PDT 2009</td>\n",
       "      <td>NO_QUERY</td>\n",
       "      <td>ohmigosh_dusti</td>\n",
       "      <td>@t_wolfe  i miss u too. i'm totally comin back...</td>\n",
       "      <td>[t_wolf, miss, total, comin, back, tho, lastni...</td>\n",
       "    </tr>\n",
       "    <tr>\n",
       "      <th>997</th>\n",
       "      <td>0</td>\n",
       "      <td>1468055472</td>\n",
       "      <td>Mon Apr 06 23:28:43 PDT 2009</td>\n",
       "      <td>NO_QUERY</td>\n",
       "      <td>tiphaniebrooke</td>\n",
       "      <td>@sniffinglue ohhh. I love it. ps I'm sad we di...</td>\n",
       "      <td>[sniffinglu, ohhh, love, p, sad, get, hang]</td>\n",
       "    </tr>\n",
       "    <tr>\n",
       "      <th>998</th>\n",
       "      <td>0</td>\n",
       "      <td>1468055604</td>\n",
       "      <td>Mon Apr 06 23:28:45 PDT 2009</td>\n",
       "      <td>NO_QUERY</td>\n",
       "      <td>rinahannah</td>\n",
       "      <td>And somehow I still end up in this place</td>\n",
       "      <td>[somehow, still, place]</td>\n",
       "    </tr>\n",
       "    <tr>\n",
       "      <th>999</th>\n",
       "      <td>0</td>\n",
       "      <td>1468055791</td>\n",
       "      <td>Mon Apr 06 23:28:49 PDT 2009</td>\n",
       "      <td>NO_QUERY</td>\n",
       "      <td>ecjc</td>\n",
       "      <td>@kisluvkis oh that is very sad, poor boy.</td>\n",
       "      <td>[kisluvki, oh, veri, sad, poor, boy]</td>\n",
       "    </tr>\n",
       "  </tbody>\n",
       "</table>\n",
       "<p>1000 rows × 7 columns</p>\n",
       "</div>"
      ],
      "text/plain": [
       "     target          id                          date      flag  \\\n",
       "0         0  1467810369  Mon Apr 06 22:19:45 PDT 2009  NO_QUERY   \n",
       "1         0  1467810672  Mon Apr 06 22:19:49 PDT 2009  NO_QUERY   \n",
       "2         0  1467810917  Mon Apr 06 22:19:53 PDT 2009  NO_QUERY   \n",
       "3         0  1467811184  Mon Apr 06 22:19:57 PDT 2009  NO_QUERY   \n",
       "4         0  1467811193  Mon Apr 06 22:19:57 PDT 2009  NO_QUERY   \n",
       "..      ...         ...                           ...       ...   \n",
       "995       0  1468055262  Mon Apr 06 23:28:39 PDT 2009  NO_QUERY   \n",
       "996       0  1468055266  Mon Apr 06 23:28:41 PDT 2009  NO_QUERY   \n",
       "997       0  1468055472  Mon Apr 06 23:28:43 PDT 2009  NO_QUERY   \n",
       "998       0  1468055604  Mon Apr 06 23:28:45 PDT 2009  NO_QUERY   \n",
       "999       0  1468055791  Mon Apr 06 23:28:49 PDT 2009  NO_QUERY   \n",
       "\n",
       "                user                                               text  \\\n",
       "0    _TheSpecialOne_  @switchfoot http://twitpic.com/2y1zl - Awww, t...   \n",
       "1      scotthamilton  is upset that he can't update his Facebook by ...   \n",
       "2           mattycus  @Kenichan I dived many times for the ball. Man...   \n",
       "3            ElleCTF    my whole body feels itchy and like its on fire    \n",
       "4             Karoli  @nationwideclass no, it's not behaving at all....   \n",
       "..               ...                                                ...   \n",
       "995      LarryEisner  @dkoenigs thanks man.  I'm so very grateful.  ...   \n",
       "996   ohmigosh_dusti  @t_wolfe  i miss u too. i'm totally comin back...   \n",
       "997   tiphaniebrooke  @sniffinglue ohhh. I love it. ps I'm sad we di...   \n",
       "998       rinahannah          And somehow I still end up in this place    \n",
       "999             ecjc         @kisluvkis oh that is very sad, poor boy.    \n",
       "\n",
       "                                        text_processed  \n",
       "0    [switchfoot, awww, bummer, shoulda, got, david...  \n",
       "1    [upset, updat, facebook, text, might, cri, res...  \n",
       "2    [kenichan, dive, mani, time, ball, manag, save...  \n",
       "3                     [whole, feel, itchi, like, fire]  \n",
       "4      [nationwideclass, behav, mad, whi, becaus, see]  \n",
       "..                                                 ...  \n",
       "995  [dkoenig, thank, veri, grate, feel, unworthi, ...  \n",
       "996  [t_wolf, miss, total, comin, back, tho, lastni...  \n",
       "997        [sniffinglu, ohhh, love, p, sad, get, hang]  \n",
       "998                            [somehow, still, place]  \n",
       "999               [kisluvki, oh, veri, sad, poor, boy]  \n",
       "\n",
       "[1000 rows x 7 columns]"
      ]
     },
     "execution_count": 637,
     "metadata": {},
     "output_type": "execute_result"
    }
   ],
   "source": [
    "df"
   ]
  },
  {
   "cell_type": "markdown",
   "metadata": {},
   "source": [
    "### Creating Bag of Words\n",
    "\n",
    "The purpose of this step is to create a [bag of words](https://en.wikipedia.org/wiki/Bag-of-words_model) from the processed data. The bag of words contains all the unique words in your whole text body (a.k.a. *corpus*) with the number of occurrence of each word. It will allow you to understand which words are the most important features across the whole corpus.\n",
    "\n",
    "Also, you can imagine you will have a massive set of words. The less important words (i.e. those of very low number of occurrence) do not contribute much to the sentiment. Therefore, you only need to use the most important words to build your feature set in the next step. In our case, we will use the top 5,000 words with the highest frequency to build the features.\n",
    "\n",
    "In the cell below, combine all the words in `text_processed` and calculate the frequency distribution of all words. A convenient library to calculate the term frequency distribution is NLTK's `FreqDist` class ([documentation](https://www.nltk.org/api/nltk.html#module-nltk.probability)). Then select the top 5,000 words from the frequency distribution."
   ]
  },
  {
   "cell_type": "code",
   "execution_count": 638,
   "metadata": {},
   "outputs": [],
   "source": [
    "from nltk.probability import FreqDist\n",
    "#let's take only the most common 5000 words\n",
    "\n",
    "def flatten(input_list):\n",
    "    return [item for sublist in input_list for item in sublist]\n",
    "\n",
    "text_processed = flatten(df['text_processed'])\n",
    "\n",
    "fdist = FreqDist(text_processed).most_common(5000)\n",
    "fdist= dict(fdist)\n",
    "word_features = fdist.keys()"
   ]
  },
  {
   "cell_type": "markdown",
   "metadata": {},
   "source": [
    "### Building Features\n",
    "\n",
    "Now let's build the features. Using the top 5,000 words, create a 2-dimensional matrix to record whether each of those words is contained in each document (tweet). Then you also have an output column to indicate whether the sentiment in each tweet is positive. For example, assuming your bag of words has 5 items (`['one', 'two', 'three', 'four', 'five']`) out of 4 documents (`['A', 'B', 'C', 'D']`), your feature set is essentially:\n",
    "\n",
    "| Doc | one | two | three | four | five | is_positive |\n",
    "|---|---|---|---|---|---|---|\n",
    "| A | True | False | False | True | False | True |\n",
    "| B | False | False | False | True | True | False |\n",
    "| C | False | True | False | False | False | True |\n",
    "| D | True | False | False | False | True | False|\n",
    "\n",
    "However, because the `nltk.NaiveBayesClassifier.train` class we will use in the next step does not work with Pandas dataframe, the structure of your feature set should be converted to the Python list looking like below:\n",
    "\n",
    "```python\n",
    "[\n",
    "\t({\n",
    "\t\t'one': True,\n",
    "\t\t'two': False,\n",
    "\t\t'three': False,\n",
    "\t\t'four': True,\n",
    "\t\t'five': False\n",
    "\t}, True),\n",
    "\t({\n",
    "\t\t'one': False,\n",
    "\t\t'two': False,\n",
    "\t\t'three': False,\n",
    "\t\t'four': True,\n",
    "\t\t'five': True\n",
    "\t}, False),\n",
    "\t({\n",
    "\t\t'one': False,\n",
    "\t\t'two': True,\n",
    "\t\t'three': False,\n",
    "\t\t'four': False,\n",
    "\t\t'five': False\n",
    "\t}, True),\n",
    "\t({\n",
    "\t\t'one': True,\n",
    "\t\t'two': False,\n",
    "\t\t'three': False,\n",
    "\t\t'four': False,\n",
    "\t\t'five': True\n",
    "\t}, False)\n",
    "]\n",
    "```\n",
    "\n",
    "To help you in this step, watch the [following video](https://www.youtube.com/watch?v=-vVskDsHcVc) to learn how to build the feature set with Python and NLTK. The source code in this video can be found [here](https://pythonprogramming.net/words-as-features-nltk-tutorial/)."
   ]
  },
  {
   "cell_type": "markdown",
   "metadata": {},
   "source": [
    "[![Building Features](building-features.jpg)](https://www.youtube.com/watch?v=-vVskDsHcVc)"
   ]
  },
  {
   "cell_type": "code",
   "execution_count": 639,
   "metadata": {},
   "outputs": [
    {
     "data": {
      "text/plain": [
       "dict_keys(['wa', 'get', 'go', 'work', 'miss', 'sad', 'day', 'like', 'time', 'sleep', 'quot', 'feel', 'got', 'still', 'know', 'realli', 'back', 'today', 'good', 'much', 'night', 'hate', 'think', 'need', 'oh', 'whi', 'see', 'tomorrow', 'sorri', 'home', 'onli', 'bad', 'watch', 'hope', 'new', 'wish', 'well', 'love', 'sick', 'make', 'hour', 'thing', 'wait', 'cri', 'last', 'school', 'though', 'week', 'bed', 'amp', 'lol', 'peopl', 'look', 'tonight', 'find', 'morn', 'tweet', 'show', 'lost', 'call', 'hear', 'better', 'done', 'gon', 'earli', 'hurt', 'start', 'hous', 'made', 'tire', 'old', 'even', 'dont', 'poor', 'cant', 'keep', 'season', 'twitter', 'hey', 'never', 'wan', 'found', 'say', 'ugh', 'play', 'haha', 'right', 'ani', 'suck', 'hard', 'world', 'could', 'long', 'girl', 'happen', 'away', 'alreadi', 'life', 'ur', 'year', 'finish', 'help', 'veri', 'omg', 'stephenkruis', 'becaus', 'thought', 'would', 'mean', 'lot', 'game', 'someon', 'yesterday', 'th', 'read', 'lt', 'gt', 'internet', 'updat', 'might', 'break', 'friend', 'may', 'sure', 'use', 'phone', 'money', 'run', 'damn', 'littl', 'yeah', 'late', 'without', 'fun', 'two', 'homework', 'listen', 'whole', 'yes', 'snow', 'alway', 'meet', 'class', 'b', 'anoth', 'heart', 'famili', 'job', 'w', 'befor', 'put', 'ago', 'cool', 'around', 'soon', 'wonder', 'stop', 'babi', 'lose', 'serious', 'head', 'said', 'let', 'mom', 'way', 'download', 'yet', 'dead', 'total', 'great', 'awww', 'upset', 'rain', 'thank', 'first', 'ok', 'almost', 'depress', 'tell', 'enough', 'jonathanrknight', 'asleep', 'happi', 'check', 'book', 'hill', 'plea', 'pain', 'aww', 'someth', 'cold', 'turn', 'left', 'free', 'bore', 'next', 'shit', 'ever', 'tho', 'news', 'fuck', 'gone', 'sandra', 'spring', 'ate', 'studi', 'soo', 'final', 'site', 'glad', 'leav', 'post', 'nice', 'least', 'busi', 'throat', 'anyth', 'parti', 'problem', 'actual', 'fail', 'behind', 'send', 'kutner', 'broke', 'seem', 'stuff', 'worri', 'live', 'far', 'stuck', 'stay', 'close', 'guy', 'movi', 'fell', 'open', 'eat', 'write', 'video', 'went', 'doe', 'state', 'half', 'episod', 'heidimontag', 'mani', 'manag', 'hug', 'either', 'talk', 'anymor', 'tax', 'wake', 'ride', 'realiz', 'eye', 'shower', 'stori', 'three', 'came', 'kid', 'reason', 'repli', 'compani', 'aw', 'band', 'sore', 'birthday', 'puppi', 'sinc', 'follow', 'kill', 'believ', 'weather', 'test', 'page', 'understand', 'pretti', 'kinda', 'g', 'crazi', 'chat', 'car', 'foot', 'stupid', 'stress', 'red', 'town', 'weekend', 'confus', 'cantu', 'idea', 'paper', 'everyon', 'prayer', 'horribl', 'readi', 'fire', 'mad', 'bit', 'nope', 'loss', 'premier', 'rent', 'sigh', 'afternoon', 'later', 'exam', 'fall', 'wear', 'wow', 'yr', 'move', 'bill', 'lmao', 'hell', 'forev', 'saw', 'terribl', 'shoe', 'cover', 'wednesday', 'headach', 'easter', 'abl', 'favorit', 'team', 'laptop', 'sooo', 'cuz', 'hang', 'sound', 'big', 'longer', 'notic', 'told', 'win', 'breakfast', 'hot', 'star', 'sent', 'pick', 'awak', 'websit', 'trip', 'woke', 'mail', 'seen', 'macbook', 'forward', 'child', 'hello', 'offici', 'wont', 'iphon', 'chang', 'uni', 'excit', 'goe', 'figur', 'r', 'list', 'assign', 'pack', 'spend', 'mayb', 'email', 'finger', 'cross', 'appar', 'buy', 'snoo', 'best', 'brother', 'crap', 'support', 'store', 'mac', 'yawn', 'text', 'save', 'count', 'death', 'film', 'ive', 'drink', 'account', 'option', 'spent', 'heard', 'top', 'plan', 'broken', 'photo', 'onlin', 'crash', 'music', 'hmmm', 'p', 'agre', 'ugli', 'lucki', 'comment', 'fml', 'shame', 'paid', 'boo', 'tummi', 'babe', 'annoy', 'pray', 'ex', 'st', 'wana', 'ohh', 'california', 'kind', 'train', 'messag', 'sadden', 'piss', 'fan', 'term', 'bedtim', 'guess', 'leavin', 'coke', 'app', 'sweet', 'alon', 'ipod', 'dvd', 'french', 'block', 'difficult', 'screw', 'luck', 'whack', 'hahaha', 'mind', 'angel', 'canada', 'suppos', 'shop', 'david_henri', 'pictur', 'xxx', 'shoot', 'walk', 'place', 'lone', 'femal', 'offic', 'noth', 'john', 'fill', 'gah', 'april', 'jealous', 'youtub', 'link', 'english', 'review', 'repeat', 'code', 'tough', 'crave', 'doesnt', 'sleepi', 'michigan', 'drain', 'awesom', 'dang', 'knew', 'cours', 'access', 'folk', 'sat', 'bay', 'trek', 'matter', 'wtf', 'word', 'rip', 'visit', 'pm', 'nick_cart', 'info', 'doc', 'yucki', 'myspac', 'complet', 'roll', 'tweetdeck', 'freez', 'anyon', 'definit', 'fish', 'yea', 'cook', 'okay', 'everyth', 'chocol', 'flash', 'dream', 'light', 'sister', 'nicolerichi', 'ruin', 'due', 'struggl', 'daddi', 'consid', 'grr', 'date', 'dress', 'rock', 'fav', 'wast', 'comput', 'exact', 'mum', 'true', 'knight', 'differ', 'goodnight', 'moment', 'earthquak', 'itali', 'pull', 'kal', 'penn', 'room', 'itun', 'order', 'doubl', 'boy', 'traffic', 'contact', 'facebook', 'result', 'blah', 'ball', 'rest', 'itchi', 'behav', 'fine', 'ear', 'idk', 'sever', 'cut', 'forgotten', 'ask', 'lesli', 'except', 'everi', 'hack', 'unforn', 'caus', 'stand', 'suitcas', 'gym', 'girlfriend', 'comfort', 'traci', 'yay', 'blackberri', 'strang', 'tea', 'broadband', 'massiv', 'via', 'www', 'unfollow', 'chicken', 'vacat', 'pc', 'forget', 'park', 'gotten', 'cigarett', 'pay', 'f', 'clam', 'dude', 'dis', 'black', 'sock', 'leather', 'cute', 'locat', 'smell', 'mug', 'csi', 'missin', 'useless', 'wors', 'fat', 'fam', 'attent', 'photoshop', 'hmm', 'enjoy', 'nite', 'spartan', 'northern', 'remain', 'rememb', 'bum', 'leg', 'complaint', 'rather', 'henkuyinepu', 'chanc', 'station', 'side', 'mention', 'clip', 'must', 'thecoolestout', 'agenc', 'edit', 'probabl', 'twista', 'easi', 'nokia', 'cancer', 'understood', 'lame', 'calori', 'skittl', 'cherri', 'although', 'middl', 'second', 'felt', 'gosh', 'delet', 'current', 'act', 'weird', 'full', 'song', 'ughh', 'deal', 'swear', 'gain', 'loud', 'soooo', 'border', 'album', 'written', 'channel', 'buddi', 'clock', 'fb', 'spencer', 'rees', '½s', 'tonit', 'nightmar', 'mandayyy', 'librari', 'bus', 'sweat', 'couldnt', 'heat', 'donniewahlberg', 'fit', 'congrat', 'forgot', 'scare', 'ï', 'lectur', 'reduc', 'becom', 'upload', 'dunno', 'anti', 'tourney', 'round', 'nd', 'bathroom', 'celebr', 'heartbroken', 'brent', 'prais', 'lead', 'guitarist', 'pout', 'shout', 'card', 'deserv', 'nurs', 'rude', 'netbal', 'bentley', 'comin', 'piec', 'aaaaand', 'iï', '½m', 'bank', 'holiday', 'ten', 'client', 'bos', 'stern', 'bc', 'bout', 'afraid', 'yup', 'worst', 'schedul', 'bar', 'arriv', 'danc', 'art', 'ah', 'refer', 'php', 'host', 'wide', 'sold', 'poo', 'stolen', 'everybodi', 'ep', 'halo', 'map', 'unfortun', 'project', 'easili', 'grandma', 'alot', 'organ', 'ach', 'exchang', 'miser', 'rachel', 'hubbi', 'import', 'sod', 'hair', 'coupl', 'product', 'learn', 'gamertag', 'nonsens', 'taken', 'scratch', 'plz', 'geez', 'dark', 'emot', 'net', 'creat', 'stock', 'poohpot', 'quick', 'dad', 'coach', 'weight', 'pepperoni', 'monday', 'modern', 'hungri', 'onc', 'funni', 'admit', 'strong', 'drive', 'steve_buscemi', 'push', 'wet', 'jump', 'gave', 'status', 'buttload', 'copi', 'anyway', 'bright', 'surpris', 'sell', 'remov', 'quiet', 'anistorm', 'mocha', 'fake', 'stare', 'wall', 'god', 'belli', 'dammit', 'king', 'ddlovato', 'giant', 'boston', 'garden', 'howev', 'continu', 'flower', 'atekinzz', 'kitti', 'rumlov', 'bottl', 'tuesday', 'counti', 'took', 'item', 'ebay', 'hardest', 'lip', 'click', 'scream', 'spider', 'hd', 'log', 'allerg', 'thursday', 'tree', 'ban', 'comp', 'xbox', 'camp', 'somewher', 'convert', 'austin', 'lovebscott', 'daniela_', 'dvr', 'tweeter', 'statist', 'uk', 'thru', 'set', 'ground', 'lauren', 'drop', 'foo', 'cup', 'oven', 'boredd', 'nz', 'clariann', 'cream', 'herp', 'dr', 'trash', 'empti', 'gift', 'cell', 'ran', 'wrote', 'hit', 'mooni', 'kutnerrrr', 'stink', 'bah', 'anwb', 'month', 'exist', 'four', 'cash', 'pari', 'milk', 'none', 'background', 'bak', 'march', 'singl', 'muscl', 'invit', 'hellivina', 'procrastin', 'vaccin', 'calv', 'fab', 'netbean', 'line', 'ihop', 'speak', 'yia', 'clean', 'quarter', 'ladi', 'coffe', 'dentist', 'aunti', 'beer', 'anybodi', 'afford', 'usual', 'ouch', 'togeth', 'london', 'quit', 'rum', 'barrel', 'horror', 'bring', 'seat', 'plurk', 'switchfoot', 'bummer', 'shoulda', 'david', 'carr', 'third', 'kenichan', 'dive', 'bound', 'nationwideclass', 'kwesidei', 'crew', 'loltrish', 'tatiana_k', 'twittera', 'muera', 'plain', 'pierc', 'caregiv', 'bear', 'ua', 'embarrass', 'octolinz', 'smarrison', 'gun', 'zac', 'snyder', 'doucheclown', 'iamjazzyfizzl', 'iamlilnicki', 'holli', 'scene', 'wri', 'director', 'file', 'lettya', 'ahh', 'soundtrack', 'fakerpattypattz', 'dear', 'tabl', 'alydesign', 'mid', 'valley', 'angry_barista', 'bake', 'cake', 'blagh', 'marley', 'lilli', 'ooooh', 'meh', 'lover', 'track', 'aim', 'alielayus', 'promot', 'gear', 'groov', 'anaheim', 'evalu', 'julieebabi', 'awe', 'humpninja', 'asian', 'held', 'puke', 'champ', 'cocomix', 'workin', 'missxu', 'gmt', 'fleuryli', 'fli', 'practic', 'teardrop', 'guitar', 'viennah', 'user', 'timelin', 'twank', 'ppl', 'prob', 'bgs', 'uid', 'iron', 'jeancjumb', 'fave', 'burnt', 'lilo', 'samro', 'retweet', 'promis', 'diigo', 'tautao', 'localtweep', 'scroll', 'feed', 'duck', 'wayyy', 'hatch', 'andywana', 'trade', 'asset', 'andi', 'oanhlov', 'mmm', 'degre', 'sd', 'random', 'yer', 'batmanyng', 'commiss', 'wutcha', 'cop', 'blood', 'sand', 'experi', 'coitus', 'starrbbi', 'shuck', 'damm', 'mo', 'wage', 'katortiz', 'lt_algonquin', 'failwhal', 'allllll', 'jdarter', 'unless', 'pop', 'ninjen', 'nikster', 'jare', 'trace', 'clear', 'attir', 'puma', 'singlet', 'adida', 'short', 'picnic', 'citrus', 'ashleyac', 'donkey', 'sensit', 'nevertheless', 'asap', 'charger', 'awol', 'arm', 'tenni', 'unhappi', 'split', 'seccond', 'bye', 'statravelau', 'newslett', 'fare', 'unbeliev', 'markhardi', 'itm', 'chalk', 'chalkboard', 'blast', 'getti', 'villa', 'msdrama', 'sup', 'mama', 'hypnosi', 'smoke', 'januarycrimson', 'muahaha', 'evil', 'laugh', 'hollywoodheat', 'webpag', 'design', 'undergrad', 'cameron', 'threaten', 'sh', 'jerk', 'makeherfam', 'constant', 'ulik', 'strider', 'ryle', 'grace', 'steve', 'wnt', 'bracket', 'pool', 'stark', 'astro', 'calif', 'polic', 'mangaaa', 'increas', 'capac', 'fast', 'whale', 'kprey', 'strike', 'paradisej', 'overh', 'recal', 'emili', 'mommi', 'rd', 'mix', 'sophmor', 'overr', 'marykatherine_q', 'moscow', 'lay', 'voic', 'whyyyyyyyy', 'jacobsumm', 'culpa', 'alliana', 'suicid', 'refus', 'salancast', 'mercedesashley', 'grind', 'inspir', 'hibanick', 'wudnt', 'crooner', 'sing', 'erre_sc', 'aaw', 'bh', 'beach', 'asba', 'radio', 'flip', 'upsid', 'ramen', 'snack', 'glass', 'oj', 'allyheman', 'camilla', 'bell', 'grum', 'stupido', 'filter', 'puter', 'blame', 'ehhh', 'chelserlynn', 'cooooold', 'incred', 'rumbl', 'knights_', 'aliv', 'yawwwnn', 'imma', 'headstart', 'agh', 'kenni', 'power', 'bridgetsbeach', 'direct', 'bridget', 'india', 'victori', 'consecut', 'ozesteph', 'stephan', 'mrsaintnick', 'intend', 'novel', 'manuscript', 'laid', 'princess', 'diari', 'francesca', 'breast', 'rumblepurr', 'daylight', 'onemoreproject', 'hero', 'downtown', 'jonathanchard', 'wise', 'junk', 'food', 'sour', 'sleeeep', 'eyebrow', 'wax', 'phantasi', 'macheist', 'espresso', 'serial', 'downstair', 'ryanseacrest', 'anoop', 'pinkserendip', 'sprint', 'baltimor', 'chicago', 'row', 'burst', 'bubbl', 'marieclr', 'naughtyhaughti', 'sooooo', 'histori', 'wind', 'bird', 'grrr', 'jai', 'penndbad', 'co', 'heap', 'machineplay', 'therapyfail', 'colindemar', 'rail', 'tip', 'tweep', 'wrench', 'hide', 'neighbor', 'dannyvegasbabi', 'danni', 'wasnt', 'nin', 'slip', 'univers', 'teach', 'lazi', 'hobbi', 'supersport', 'ny', 'robluket', 'south', 'qtr', 'snarl', 'beauti', 'activ', 'selfcontrol', 'qc', 'regular', 'intern', 'hillydop', 'goodlaura', 'ttsc', 'madam', 'presid', 'woman', 'limit', 'letter', 'sheï', 'wanttss', 'interview', 'cardiff', 'stuston', 'wiggeti', 'djalizay', 'choos', 'chose', 'accept', 'eloquentembrac', 'solid', 'cheechbud', 'hr', 'protest', 'boot', 'mysteezradio', 'goin', 'nap', 'interrupt', 'japanes', 'ghost', 'gurumn', 'awwh', 'bab', 'underneith', 'entranc', 'musik', 'transform', 'tipsi', 'lonesom', 'forthcom', 'somebodi', 'infinitydefin', 'omgawd', 'handl', 'auburn', 'mag', 'magazin', 'breadandbadg', 'submit', 'paulaabdul', 'paula', 'amaz', 'imaginarypeach', 'ughhh', 'advanc', 'outsid', 'tuesdayï', '½ll', 'reflect', '½n', 'techniqu', 'accompani', 'tragedi', 'disast', 'correclti', 'sox', 'key', 'charlietm', 'labelsnotlov', 'mammi', 'depressd', 'pls', 'explain', 'parent', 'ircmaxel', 'paxil', 'wellbutrin', 'combo', 'efficaci', 'myconnecticut', 'restaur', 'woodntap', 'competit', 'caitlinoconnor', 'taco', 'margarhita', 'telll', 'gay', 'betfair', 'tar', 'heel', 'kristencampisi', 'monkey', 'twin', 'miss_om', 'sarahreedsc', 'treati', 'defin', 'jpfurri', 'fruit', 'microwav', 'doctor', 'bff', 'remind', 'court', 'doa', 'nake', 'jk', 'sort', 'apprais', 'form', 'occupi', 'past', 'ring', 'burgaw', 'ooooooh', 'sealclap', 'shitload', 'zip', 'folder', 'chan', 'alicia', 'mikey', 'nile', 'ic', 'brandizzzl', 'yoyoyo', 'reconnect', 'jemcam', 'kissabl', 'juli', 'dierk', 'columbus', 'sidekick', 'chriscantor', 'xm', 'grt', 'luvvvvv', 'golden', 'retriev', 'sighhhh', 'luggag', 'nausea', 'ooh', 'reach', 'axi', 'mahavir', 'jayanti', 'contd', 'mathewsmichael', 'jobro', 'often', 'fishmous', 'hilari', 'lj', 'diannepulham', 'oooooooo', 'neither', 'near', 'bostongarden', 'applic', 'vinca', 'whing', 'rewrot', 'unread', 'writer', 'correct', 'huntermoor', 'punch', 'its_nemesi', 'lovemeagan', 'apolog', 'relat', 'discus', 'koodo', 'zaydia', 'etc', 'senior', 'technolog', 'inept', 'regist', 'slept', 'gallbladd', 'pill', 'thastevieg', 'bass', 'callin', 'nighti', 'twitta', 'levenrambin', 'goodniight', 'riancurti', 'kariajay', 'db', 'aaronrva', 'pee', 'ashleyskyy', 'margarita', 'kourtneykardash', 'workout', 'unfortunet', 'allow', 'hillsong', 'milki', 'ml', 'jokerrrr', 'stillllll', 'mraow', 'rape', 'karenucol', 'bet', 'softbal', 'basketbal', 'noo', 'terrifi', 'accident', 'troubl', 'amazon', 'plugin', 'provid', 'argh', 'suuuper', 'austinhil', 'tropic', 'thunder', 'dread', 'qweendassah', 'chiefdelphi', 'accord', 'bro', 'fight', 'poop', 'yin', 'huen', 'unbear', 'guilt', 'staff', 'joshi', 'tejano', 'franzglaus', 'alicayaba', 'cuuut', 'everyday', 'gooooood', 'moooorniiiiii', 'germani', 'cage', 'string', 'chees', 'underneath', 'energi', 'ridley', 'shapeshift', 'copout', 'angela', 'noah', 'savethestrib', 'earlier', 'outing', 'mythic', 'legendari', 'veneia', 'latest', 'sun', 'harder', 'crush', 'jake', 'peavi', 'gayforpeavi', 'trishzw', 'megafast', 'dure', 'tom', 'wed', 'warn', 'tech', 'mouth', 'brace', 'biofuel', 'propos', 'biof', 'mizzchievouz', 'girlyvu', 'ahleyf', 'tromp', 'jew', 'worth', '_', 'possibl', 'bone', 'griffmiest', 'hyperbet', 'rcompo', 'outag', 'neccessari', 'wekend', 'dumb', 'theleaguesf', 'furious', 'mantra', 'breaker', 'rambuncti', 'overreact', 'clamp', 'amber_benson', 'spot', 'carpet', 'easier', 'jeffree_star', 'jeffre', 'color', 'perman', 'dye', 'fade', 'within', 'otakusecret', 'reaction', 'whoa', 'medicin', 'dangermus', 'maddyva', 'xblm', 'hitokyri', 'testament', 'scoutbuck', 'troll', 'ahhhh', 'mirror', 'ugggggh', 'stooopee', 'buck', 'unfair', 'heif', 'cooki', 'tum', 'shoog', 'poot', 'cococourtney', 'ttyl', 'everbodi', 'sara_k', 'age', 'carvin', 'nick', 'jon', 'nchokkan', 'http', 'mycomicshop', 'search', 'tid', 'softbelli', 'mtub', 'posterior', 'articul', 'creak', 'drool', 'swim', 'nathan', 'chris', 'callum', 'wahhh', 'stou', 'ohsbrat', 'scrappi', 'seblefebvr', 'mess', 'practis', 'holist', 'duchess_rebecca', 'intervent', 'boyfriend', 'rut', 'idiot', 'craigslist', 'cast', 'psych', 'hoax', 'valentino', 'sausag', 'soillodg', 'gg', 'rocko', 'skinni', 'vega', 'marge_inovera', 'passion', 'benackerman', 'btw', 'sayin', 'hold', 'bananafac', 'carolrainbow', 'ox', 'builder', 'twiggassssssss', 'rang', 'danadearmond', 'accid', 'pant', 'franklin', 'street', 'kick', 'jenni', 'johnnybean', 'default', 'ellievolia', 'oooon', 'eh', 'awh', 'visual', 'studio', 'silli', 'econom', 'robcthegeek', 'upon', 'hundr', 'island', 'pride', 'philippin', 'tourism', 'coral', 'rare', 'poach', 'tast', 'hummiemd', 'recommend', 'airport', 'harass', 'id', 'fuckkkkkkkkkkkkk', 'celycarmo', 'officialrandl', 'announc', 'kishorek', 'illeg', 'torrent', 'avlbl', 'everywher', 'legal', 'imiss', 'trolley', 'sardin', 'padr', 'mt', 'randomlynat', 'jeez', 'supamagg', 'saturday', 'along', 'glitteri', 'green', 'lighter', 'number', 'nobodi', 'treesahquich', 'applepear', 'jennifermf', 'owl', 'natur', 'zone', 'mamasvan', 'camerafail', 'maxim', 'megeld', 'fair', 'pooki', 'uti', 'gabbi', 'soda', 'jillianfish', 'sleep_til_noon', 'tempt', 'velvet', 'alert', 'marten', 'worn', 'decemb', 'repair', 'b_barnett', 'vivid', 'sketchi', 'passport', 'uh', 'button', 'frame', 'roger', 'rabbit', 'toon', 'akianz', 'cheap', 'attempt', 'nose', 'spin', 'combin', 'eazydoesit', 'negat', 'vote', 'confid', 'nasti', 'budget', 'appl', 'sofii_noel', 'thatï', 'quiz', 'ceas', 'disbelief', 'raw', 'kevchoic', 'person', 'ish', 'real', 'frago', 'therapist', 'twilight', 'nilelegania', 'tireddddddd', 'jst', 'teusday', 'ummmmm', 'corrosivecandi', 'amanorri', 'sexist', 'bathtub', 'haz', 'drano', 'dangit', 'nomadicmatt', 'duckl', 'famous', 'public', 'globe', 'sharethi', 'appomattox_new', 'includ', 'convict', 'altrincham', 'instal', 'bloodi', 'knacker', 'helppp', 'jeffreecuntstar', 'garag', 'driveway', 'lauredhel', 'popular', 'adorno', 'prescrib', 'camera', 'cellphon', 'brian_armstrong', 'piti', 'china', 'margaretcho', 'hightlight', 'sofa', 'uncap', 'lodg', 'sneak', 'zoo', 'lolitariot', 'alejandralei', 'cousin', 'athlet', 'trust', 'yaknow', 'shawnna', 'tomomorrow', 'bestfriend', 'pear', 'brie', 'cabernet', 'tad', 'hamilton', 'gawwd', 'kaeeeep', 'brodh', 'punk', 'jyesmith', 'angst', 'britney', 'ap', 'huuug', 'cleder', 'root', 'shandasaurus', 'meanwhil', 'coleman', 'present', 'slide', 'previous', 'skin', 'straight', 'intro', 'houndour', 'vain', 'gloss', 'stuiy', 'known', 'pratama', 'imac', 'indonesia', 'furnitur', 'miss_sil', 'peac', 'bite', 'footag', 'underxpos', 'jrubi', 'hpricot', 'version', 'jinxcat', 'unlik', 'frake', 'ttb', 'dislik', 'emmaketurah', 'emma', 'swarley', 'goldfish', 'swollen', 'doubt', 'snick_the_dog', 'izzi', 'floor', 'chase', 'godaddi', 'small', 'print', 'happili', 'boba', 'humanopium', 'scari', 'ilovepi', 'wheat', 'bread', 'dollar', 'toast', 'goonit', 'cinema', 'christina', 'kelleyrow', 'vomit', 'lymph', 'node', 'rahm', 'emanuel', 'fancast', 'trumpet', 'meant', 'friday', 'sasii', 'hert', 'jesus', 'marybethun', 'opera', 'turtl', 'faster', 'soak', 'pleasant', 'ginay', 'maggi', 'ewarden', 'miamiiboii', 'yu', 'gettin', 'wen', 'arlenecd', 'phlaimeaux', 'arrang', 'marriag', 'marri', 'emilyrupp', 'looser', 'impli', 'matthew', 'chordsi', 'absolut', 'curri', 'indian', 'kant', 'beat', 'embarasssiiiin', 'tumblr', '½tieï', '½', 'hahaa', 'impun', 'isnt', 'unclev', 'wahh', 'anywher', 'inventori', 'ballinbitch', 'ballin', 'paaaaay', 'paul_e_wog', 'carlyw', 'bunch', 'mumbo', 'jumbo', 'sloanb', 'evict', 'cs', 'nachojohnni', 'brian', 'dish', 'network', 'catch', 'rerun', 'jessdubb', 'summ', 'dri', 'lizchavez', 'eyelid', 'professor', 'asham', 'frog', 'extinct', 'stubborn', 'grouchi', 'bmar', 'pre', 'mood', 'miniatur', 'nwo', 'colddd', 'stuf', 'affect', 'york', 'born__broadway', 'ignacius', 'prepatori', 'birutagm', 'whoisariston', 'tongu', 'cheek', 'remark', 'acronym', 'greggrunberg', 'matt', 'ballist', 'disappoint', 'kantu', 'danielledeleasa', 'hors', 'travesti', 'quandotcom', 'amandaenglund', 'gossip', 'inyourey', 'reckon', 'thousand_mil', 'return', 'knotseri', 'hannahsix', 'ocular', 'strain', 'folio', 'umm', 'insomniac', 'plus', 'flu', 'lll', 'sleepin', 'phuckin', 'outta', 'water', 'finland', 'lunafiko', 'prolli', 'earliest', 'shiner', 'blanket', 'napl', 'dragon', 'tp', 'server', 'player', 'ankl', 'raymondroman', 'radioact', 'nother', 'coz', 'murd', 'chillen', 'sex', 'louie', 'luisa', 'hillari', 'whitney', 'beso', 'hollywood', 'bobbi', 'syekr', 'myki', 'nevadawolf', 'dnf', 'risk', 'coord', 'ftf', 'honey', 'disgruntl', 'esn', 'lower', 'stomach', 'exercis', 'fallon', 'paulcol', 'greed', 'motiv', 'individu', 'gabbyisact', 'brat', 'rub', 'redvinylgirl', 'blue', 'bidder', 'gigdiari', 'leftov', 'suffer', 'fatal', 'partion', 'manu', 'spunki', 'rotti', 'path', 'step', 'ryanmwilson', 'crummi', 'usb', 'disco', 'mous', 'buu', 'gamebattl', 'white', 'outnumb', 'emitstop', 'katebornstein', 'memori', 'tattoo', 'strictest', 'disapprov', 'balamurugan', 'longterm', 'member', 'ventur', 'justgelo', 'maxi', 'coachella', 'lack', 'fund', 'crib', 'boooo', 'ahead', 'fri', 'chill', 'egg', 'hunt', 'spiral', 'dmb', 'followsavvi', 'everytim', 'sorryto', 'dtmafiaoffici', 'jus', 'dtmafia', 'dun', 'followin', 'wht', 'augh', 'eff', 'sarth', 'stole', 'mil', 'nail', 'polish', 'fling', 'tour', 'dawn', 'neece', 'hoyt', 'distribut', 'crummyasshol', 'cillian', 'murphi', 'cartoon', 'ie', 'captain', 'planet', 'walli', 'daria', 'abt', 'sarah', 'centr', 'point', 'ram', 'commut', 'warfar', 'odst', 'brutal', 'legend', 'bioshock', 'd_castillo', 'disconcert', 'devinthedud', 'russian', 'arent', 'delici', 'europ', 'tastiest', 'ilearn', 'carmonium', 'outttt', 'shouldv', 'bern', 'ping', 'kyle', 'custom', 'icon', 'edg', 'squar', 'diff', 'enterbelladonna', 'forum', 'frustrat', 'lilbucknut', 'georgeruiz', 'squid', 'monster', 'thestar_rag', 'branch', 'midv', 'danann', 'instead', 'polhillian', 'nkdreamer', 'donni', 'stat', 'jrk', 'tim_graing', 'receiv', 'stimulus', 'ikimb', 'havnt', 'mccainblogett', 'awwwww', 'feelin', 'sympathi', 'decis', 'colli', 'josephheustess', 'part', 'spoil', 'limbecki', 'warp', 'theresawhit', 'slap', 'warm', 'itouch', 'gross', 'pimpl', 'torturedladi', 'naaaaaaaaaaaaaaaaaaaam', 'marwan', 'accent', 'unholyknight', 'brb', 'whether', 'burn', 'wyldcelt', 'karat', 'tournament', 'north', 'carolina', 'aint', 'nothin', 'nba', 'draft', 'reaali', 'mayer', 'bitchfuck', 'mqu', 'playradioplay', 'unexpect', 'superneej', 'deepbluesealov', 'homesick', 'crimin', 'breakn', 'brownston', 'lawnord', 'misti', 'djsoulsist', 'val', 'iitsc', 'clubroom', 'updatingff', 'give', 'twenti', 'compress', 'rili', 'workng', 'gng', 'healthi', 'dine', 'session', 'ashok', 'exec', 'chef', 'chopra', 'workload', 'skip', 'happier', 'misstoriblack', 'razr', 'hella', 'cloth', 'mobbler', 'add', 'featur', 'latroneb', 'besti', 'esuriospiritus', 'flawda', 'blegghhhh', 'muir', 'dachesterfrench', 'respond', 'saddest', 'horrifi', 'wrong', 'turbotax', 'decid', 'amberpacif', 'rule', 'oat', 'market', 'adamgoldston', 'usc', 'icecream', 'faithgg', 'shockwav', 'rubyros', 'sydney', 'luxuryprg', 'surious', 'joke', 'lc', 'spell', 'pox', 'yawwwn', 'sam', 'cush', 'diseas', 'dispatch', 'starburst', 'faver', 'strawberri', 'watermellon', 'andreabak', 'gee', 'insomnia', 'melatonin', 'vivekg', 'cairo', 'mtva', 'hadtobeyou', 'shortiethug', 'screen', 'corner', 'dialogu', 'ashman', 'slice', 'bypass', 'cuddl', 'softwar', 'diet', 'kung', 'pancak', 'pose', 'contactab', 'cruel', 'debat', 'culmin', 'physic', 'pinki', 'sarahsaturday', 'oneindia', 'mobi', 'googl', 'android', 'indic', 'languag', 'mtsiaklid', 'winggato', 'bottom', 'swiftkaratechop', 'nomnom', 'share', 'caught', 'bcoz', 'reaaaaad', 'degress', 'washington', 'winter', 'massag', 'spill', 'desk', 'simpson', 'fanclub', 'mild', 'inner', 'infect', 'irrit', 'sunday', 'janebodehous', 'hoytfortenberri', 'awhil', 'thang', 'alarm', 'kalichosich', 'buffalo', 'wing', 'sittin', 'kayla', 'reallli', 'fed', 'bokki', 'treat', 'sicko', 'travel', 'franc', 'joannafbeckett', 'closest', 'mile', 'literatur', 'phoneless', 'reek', 'alcohol', 'drunk', 'tshirt', 'realis', 'huge', 'stain', 'disgust', 'rootbeersoup', 'certain', 'burrito', 'cronotrigg', 'adopt', 'tessm', 'tania', 'crappi', 'eam', 'law', 'linni', 'ilovefatsusan', 'twist', 'paint', 'appreci', 'partial', 'frozen', 'toaster', 'counter', 'kitchen', 'speakeasi', 'stewiebrittani', 'monasmith', 'council', 'smug', 'victoria', 'unpleas', 'tube', 'lilibat', 'extract', 'suspici', 'kameelahwrit', 'codez', 'reannaremick', 'taliasunset', 'expert', 'beachbassbon', 'roomi', 'goto', 'larg', 'laundromat', 'machin', 'charact', 'q', 'drivin', 'lesson', 'sleeep', 'shut', 'britain', 'suckassi', 'denni', 'pkoi', 'beau', 'bon', 'essay', 'chauncey', 'endearingevania', 'tmrw', 'interfer', 'widyatarina', 'noooooo', 'loyal', 'hand', 'stack', 'looooooong', 'yaykimo', 'phipstap', 'crack', 'brew', 'rj', 'stiff', 'melamachinko', 'stringer', 'hof', 'eve', 'nowher', 'hire', 'emiliexclarkex', 'plagu', 'pirat', 'trial', 'verdict', 'featherinair', 'hall', 'immedi', 'viabl', 'veiw', 'bjork', 'becki', 'buckwild', 'tantan', 'nabe', 'leagu', 'ice', 'cone', 'grand', 'grass', 'tomatosalsa', 'stalker', 'brettyboo', 'bike', 'slessard', 'master', 'sephystryx', 'load', 'unlov', 'robbi', 'bless', 'wipe', 'reload', 'bbm', 'mykel', 'sayyyi', 'whaaaa', 'workshop', 'begin', 'astewart', 'manual', 'twitterfe', 'lukewarm', 'linuxfound', 'freelanc', 'linux', 'throughout', 'skylinek', 'connor', 'febi', 'pro', 'inlov', 'powerbook', 'michaeltao', 'america', 'borez', 'msg', 'electrolyt', 'vitamin', 'sudam', 'proper', 'italian', 'weeeeee', 'ip', 'therealnph', 'fact', 'genuin', 'celesteclara', 'theblondetheori', 'champagnemanoir', 'majesticflam', 'sucki', 'bengottlieb', 'promo', 'mattycus', 'shake', 'sleepless', 'billybush', 'batmannn', 'chutney', 'high', 'scan', 'misterphipp', 'risotto', 'keeeerrrrriiiiii', 'wonderfulll', 'basebal', 'yanke', 'haif', 'circl', 'hemispher', 'sudden', 'twitterfam', 'rachelcmrn', 'greaaat', 'lappi', 'wtffffff', 'mrkm', 'journey', 'lookin', 'nighter', 'vernonhamilton', 'stranger', 'debbug', 'vb', 'toddlington', 'percent', 'darn', 'allergi', 'cutner', 'santa', 'rosa', 'damnit', 'reaper', 'comcast', 'cabl', 'suggest', 'area', 'duchess', 'alexbigman', 'hi', 'tracydowd', 'fix', 'microsoft', 'hq', 'size', 'confer', 'toooo', 'muchh', 'cooooffffeeeeeeee', 'bahaha', 'whyinthehel', 'butt', 'nosey', 'convers', 'interest', 'smokey_robinson', 'offend', 'chimpytwit', 'brilliant', 'swap', 'brolli', 'simonekali', 'autograph', 'record', 'rt', 'kimkardashian', 'khloe', 'apprentic', 'biolog', 'jennlopez', 'tivo', 'mouthsex', 'adam', 'ruddi', 'kal_penn', 'marcusmim', 'forc', 'synch', 'mobil', 'concentr', 'enter', 'bureaucrat', 'nw', 'migrain', 'buyolog', 'premis', 'hellobeb', 'didnt', 'zero', 'reader', 'cloudpimp', 'decent', 'rate', 'sterl', 'flog', 'inch', 'dweeman', 'camper', 'dkoenig', 'grate', 'unworthi', 't_wolf', 'lastnight', 'sooooooo', 'sniffinglu', 'ohhh', 'somehow', 'kisluvki'])"
      ]
     },
     "execution_count": 639,
     "metadata": {},
     "output_type": "execute_result"
    }
   ],
   "source": [
    "word_features #bag of words in a list"
   ]
  },
  {
   "cell_type": "code",
   "execution_count": null,
   "metadata": {},
   "outputs": [],
   "source": []
  },
  {
   "cell_type": "code",
   "execution_count": 650,
   "metadata": {},
   "outputs": [],
   "source": [
    "doc= df[['text_processed', 'target']]"
   ]
  },
  {
   "cell_type": "code",
   "execution_count": 651,
   "metadata": {},
   "outputs": [],
   "source": [
    "#import random\n",
    "#random.shuffle(doc)"
   ]
  },
  {
   "cell_type": "code",
   "execution_count": 652,
   "metadata": {},
   "outputs": [],
   "source": [
    "#doc = pd.DataFrame(doc)"
   ]
  },
  {
   "cell_type": "code",
   "execution_count": 653,
   "metadata": {},
   "outputs": [],
   "source": [
    "def find_features(doc, word_features):\n",
    "    #words = set(doc)\n",
    "    features = {}\n",
    "    for w in word_features:\n",
    "        features[w] = (w in doc)\n",
    "    return features"
   ]
  },
  {
   "cell_type": "code",
   "execution_count": 654,
   "metadata": {},
   "outputs": [
    {
     "name": "stderr",
     "output_type": "stream",
     "text": [
      "C:\\Users\\franc\\AppData\\Local\\Temp/ipykernel_9116/1794945086.py:1: SettingWithCopyWarning: \n",
      "A value is trying to be set on a copy of a slice from a DataFrame.\n",
      "Try using .loc[row_indexer,col_indexer] = value instead\n",
      "\n",
      "See the caveats in the documentation: https://pandas.pydata.org/pandas-docs/stable/user_guide/indexing.html#returning-a-view-versus-a-copy\n",
      "  doc['is_positive'] = doc.target.apply(lambda x: True if x == 4 else False)\n"
     ]
    }
   ],
   "source": [
    "doc['is_positive'] = doc.target.apply(lambda x: True if x == 4 else False)"
   ]
  },
  {
   "cell_type": "code",
   "execution_count": 655,
   "metadata": {},
   "outputs": [],
   "source": [
    "featuresets = [(find_features(row.text_processed, word_features), row.is_positive) for index, row in doc.iterrows()]"
   ]
  },
  {
   "cell_type": "code",
   "execution_count": null,
   "metadata": {},
   "outputs": [],
   "source": []
  },
  {
   "cell_type": "code",
   "execution_count": 577,
   "metadata": {},
   "outputs": [],
   "source": [
    "#featuresets = pd.DataFrame(dict(featuresets)).T"
   ]
  },
  {
   "cell_type": "code",
   "execution_count": 377,
   "metadata": {},
   "outputs": [
    {
     "data": {
      "text/html": [
       "<div>\n",
       "<style scoped>\n",
       "    .dataframe tbody tr th:only-of-type {\n",
       "        vertical-align: middle;\n",
       "    }\n",
       "\n",
       "    .dataframe tbody tr th {\n",
       "        vertical-align: top;\n",
       "    }\n",
       "\n",
       "    .dataframe thead th {\n",
       "        text-align: right;\n",
       "    }\n",
       "</style>\n",
       "<table border=\"1\" class=\"dataframe\">\n",
       "  <thead>\n",
       "    <tr style=\"text-align: right;\">\n",
       "      <th></th>\n",
       "      <th>wa</th>\n",
       "      <th>get</th>\n",
       "      <th>go</th>\n",
       "      <th>work</th>\n",
       "      <th>miss</th>\n",
       "      <th>sad</th>\n",
       "      <th>day</th>\n",
       "      <th>like</th>\n",
       "      <th>time</th>\n",
       "      <th>sleep</th>\n",
       "      <th>...</th>\n",
       "      <th>dkoenig</th>\n",
       "      <th>grate</th>\n",
       "      <th>unworthi</th>\n",
       "      <th>t_wolf</th>\n",
       "      <th>lastnight</th>\n",
       "      <th>sooooooo</th>\n",
       "      <th>sniffinglu</th>\n",
       "      <th>ohhh</th>\n",
       "      <th>somehow</th>\n",
       "      <th>kisluvki</th>\n",
       "    </tr>\n",
       "  </thead>\n",
       "  <tbody>\n",
       "    <tr>\n",
       "      <th>0</th>\n",
       "      <td>False</td>\n",
       "      <td>False</td>\n",
       "      <td>False</td>\n",
       "      <td>False</td>\n",
       "      <td>False</td>\n",
       "      <td>False</td>\n",
       "      <td>False</td>\n",
       "      <td>True</td>\n",
       "      <td>False</td>\n",
       "      <td>False</td>\n",
       "      <td>...</td>\n",
       "      <td>False</td>\n",
       "      <td>False</td>\n",
       "      <td>False</td>\n",
       "      <td>False</td>\n",
       "      <td>False</td>\n",
       "      <td>False</td>\n",
       "      <td>False</td>\n",
       "      <td>False</td>\n",
       "      <td>False</td>\n",
       "      <td>False</td>\n",
       "    </tr>\n",
       "    <tr>\n",
       "      <th>1</th>\n",
       "      <td>False</td>\n",
       "      <td>False</td>\n",
       "      <td>False</td>\n",
       "      <td>False</td>\n",
       "      <td>False</td>\n",
       "      <td>False</td>\n",
       "      <td>False</td>\n",
       "      <td>False</td>\n",
       "      <td>False</td>\n",
       "      <td>False</td>\n",
       "      <td>...</td>\n",
       "      <td>False</td>\n",
       "      <td>False</td>\n",
       "      <td>False</td>\n",
       "      <td>False</td>\n",
       "      <td>False</td>\n",
       "      <td>False</td>\n",
       "      <td>False</td>\n",
       "      <td>False</td>\n",
       "      <td>False</td>\n",
       "      <td>False</td>\n",
       "    </tr>\n",
       "    <tr>\n",
       "      <th>2</th>\n",
       "      <td>False</td>\n",
       "      <td>False</td>\n",
       "      <td>False</td>\n",
       "      <td>False</td>\n",
       "      <td>False</td>\n",
       "      <td>False</td>\n",
       "      <td>True</td>\n",
       "      <td>False</td>\n",
       "      <td>False</td>\n",
       "      <td>False</td>\n",
       "      <td>...</td>\n",
       "      <td>False</td>\n",
       "      <td>False</td>\n",
       "      <td>False</td>\n",
       "      <td>False</td>\n",
       "      <td>False</td>\n",
       "      <td>False</td>\n",
       "      <td>False</td>\n",
       "      <td>False</td>\n",
       "      <td>False</td>\n",
       "      <td>False</td>\n",
       "    </tr>\n",
       "    <tr>\n",
       "      <th>3</th>\n",
       "      <td>False</td>\n",
       "      <td>False</td>\n",
       "      <td>True</td>\n",
       "      <td>False</td>\n",
       "      <td>False</td>\n",
       "      <td>False</td>\n",
       "      <td>False</td>\n",
       "      <td>False</td>\n",
       "      <td>True</td>\n",
       "      <td>False</td>\n",
       "      <td>...</td>\n",
       "      <td>False</td>\n",
       "      <td>False</td>\n",
       "      <td>False</td>\n",
       "      <td>False</td>\n",
       "      <td>False</td>\n",
       "      <td>False</td>\n",
       "      <td>False</td>\n",
       "      <td>False</td>\n",
       "      <td>False</td>\n",
       "      <td>False</td>\n",
       "    </tr>\n",
       "  </tbody>\n",
       "</table>\n",
       "<p>4 rows × 2665 columns</p>\n",
       "</div>"
      ],
      "text/plain": [
       "      wa    get     go   work   miss    sad    day   like   time  sleep  ...  \\\n",
       "0  False  False  False  False  False  False  False   True  False  False  ...   \n",
       "1  False  False  False  False  False  False  False  False  False  False  ...   \n",
       "2  False  False  False  False  False  False   True  False  False  False  ...   \n",
       "3  False  False   True  False  False  False  False  False   True  False  ...   \n",
       "\n",
       "   dkoenig  grate  unworthi  t_wolf  lastnight  sooooooo  sniffinglu   ohhh  \\\n",
       "0    False  False     False   False      False     False       False  False   \n",
       "1    False  False     False   False      False     False       False  False   \n",
       "2    False  False     False   False      False     False       False  False   \n",
       "3    False  False     False   False      False     False       False  False   \n",
       "\n",
       "   somehow  kisluvki  \n",
       "0    False     False  \n",
       "1    False     False  \n",
       "2    False     False  \n",
       "3    False     False  \n",
       "\n",
       "[4 rows x 2665 columns]"
      ]
     },
     "execution_count": 377,
     "metadata": {},
     "output_type": "execute_result"
    }
   ],
   "source": [
    "#featuresets"
   ]
  },
  {
   "cell_type": "code",
   "execution_count": 378,
   "metadata": {},
   "outputs": [],
   "source": [
    "#sample_arr = [True, False]\n",
    "# Create a numpy array with random True or False of size 10\n",
    "#bool_arr = np.random.choice(sample_arr, size=4)"
   ]
  },
  {
   "cell_type": "code",
   "execution_count": 379,
   "metadata": {},
   "outputs": [],
   "source": [
    "#bool_arr = pd.DataFrame(bool_arr)"
   ]
  },
  {
   "cell_type": "code",
   "execution_count": 380,
   "metadata": {},
   "outputs": [
    {
     "data": {
      "text/html": [
       "<div>\n",
       "<style scoped>\n",
       "    .dataframe tbody tr th:only-of-type {\n",
       "        vertical-align: middle;\n",
       "    }\n",
       "\n",
       "    .dataframe tbody tr th {\n",
       "        vertical-align: top;\n",
       "    }\n",
       "\n",
       "    .dataframe thead th {\n",
       "        text-align: right;\n",
       "    }\n",
       "</style>\n",
       "<table border=\"1\" class=\"dataframe\">\n",
       "  <thead>\n",
       "    <tr style=\"text-align: right;\">\n",
       "      <th></th>\n",
       "      <th>0</th>\n",
       "    </tr>\n",
       "  </thead>\n",
       "  <tbody>\n",
       "    <tr>\n",
       "      <th>0</th>\n",
       "      <td>True</td>\n",
       "    </tr>\n",
       "    <tr>\n",
       "      <th>1</th>\n",
       "      <td>True</td>\n",
       "    </tr>\n",
       "    <tr>\n",
       "      <th>2</th>\n",
       "      <td>False</td>\n",
       "    </tr>\n",
       "    <tr>\n",
       "      <th>3</th>\n",
       "      <td>False</td>\n",
       "    </tr>\n",
       "  </tbody>\n",
       "</table>\n",
       "</div>"
      ],
      "text/plain": [
       "       0\n",
       "0   True\n",
       "1   True\n",
       "2  False\n",
       "3  False"
      ]
     },
     "execution_count": 380,
     "metadata": {},
     "output_type": "execute_result"
    }
   ],
   "source": [
    "#bool_arr"
   ]
  },
  {
   "cell_type": "code",
   "execution_count": 452,
   "metadata": {},
   "outputs": [],
   "source": [
    "#matrix = pd.concat([featuresets, bool_arr], axis = 1).reset_index()"
   ]
  },
  {
   "cell_type": "code",
   "execution_count": 453,
   "metadata": {},
   "outputs": [],
   "source": [
    "#matrix = matrix.rename(columns = {'index' : 'Doc', 0:'is_positive'})"
   ]
  },
  {
   "cell_type": "markdown",
   "metadata": {},
   "source": [
    "### Building and Traininng Naive Bayes Model\n",
    "\n",
    "In this step you will split your feature set into a training and a test set. Then you will create a Bayes classifier instance using `nltk.NaiveBayesClassifier.train` ([example](https://www.nltk.org/book/ch06.html)) to train with the training dataset.\n",
    "\n",
    "After training the model, call `classifier.show_most_informative_features()` to inspect the most important features. The output will look like:\n",
    "\n",
    "```\n",
    "Most Informative Features\n",
    "\t    snow = True            False : True   =     34.3 : 1.0\n",
    "\t  easter = True            False : True   =     26.2 : 1.0\n",
    "\t headach = True            False : True   =     20.9 : 1.0\n",
    "\t    argh = True            False : True   =     17.6 : 1.0\n",
    "\tunfortun = True            False : True   =     16.9 : 1.0\n",
    "\t    jona = True             True : False  =     16.2 : 1.0\n",
    "\t     ach = True            False : True   =     14.9 : 1.0\n",
    "\t     sad = True            False : True   =     13.0 : 1.0\n",
    "\t  parent = True            False : True   =     12.9 : 1.0\n",
    "\t  spring = True            False : True   =     12.7 : 1.0\n",
    "```\n",
    "\n",
    "The [following video](https://www.youtube.com/watch?v=rISOsUaTrO4) will help you complete this step. The source code in this video can be found [here](https://pythonprogramming.net/naive-bayes-classifier-nltk-tutorial/)."
   ]
  },
  {
   "cell_type": "markdown",
   "metadata": {},
   "source": [
    "[![Building and Training NB](nb-model-building.jpg)](https://www.youtube.com/watch?v=rISOsUaTrO4)"
   ]
  },
  {
   "cell_type": "markdown",
   "metadata": {},
   "source": [
    "### Testing Naive Bayes Model\n",
    "\n",
    "Now we'll test our classifier with the test dataset. This is done by calling `nltk.classify.accuracy(classifier, test)`.\n",
    "\n",
    "As mentioned in one of the tutorial videos, a Naive Bayes model is considered OK if your accuracy score is over 0.6. If your accuracy score is over 0.7, you've done a great job!"
   ]
  },
  {
   "cell_type": "code",
   "execution_count": 656,
   "metadata": {},
   "outputs": [],
   "source": [
    "train_set, test_set = featuresets[230:], featuresets[:230]\n",
    "classifier = nltk.NaiveBayesClassifier.train(train_set)"
   ]
  },
  {
   "cell_type": "code",
   "execution_count": 657,
   "metadata": {},
   "outputs": [
    {
     "name": "stdout",
     "output_type": "stream",
     "text": [
      "Classifier accuracy percent: 100.0\n"
     ]
    }
   ],
   "source": [
    "print(\"Classifier accuracy percent:\",(nltk.classify.accuracy(classifier, test_set))*100)\n"
   ]
  },
  {
   "cell_type": "code",
   "execution_count": 658,
   "metadata": {},
   "outputs": [
    {
     "name": "stdout",
     "output_type": "stream",
     "text": [
      "Most Informative Features\n"
     ]
    }
   ],
   "source": [
    "classifier.show_most_informative_features(15)"
   ]
  },
  {
   "cell_type": "markdown",
   "metadata": {},
   "source": [
    "## Bonus Question 1: Improve Model Performance\n",
    "\n",
    "If you are still not exhausted so far and want to dig deeper, try to improve your classifier performance. There are many aspects you can dig into, for example:\n",
    "\n",
    "* Improve stemming and lemmatization. Inspect your bag of words and the most important features. Are there any words you should furuther remove from analysis? You can append these words to further remove to the stop words list.\n",
    "\n",
    "* Remember we only used the top 5,000 features to build model? Try using different numbers of top features. The bottom line is to use as few features as you can without compromising your model performance. The fewer features you select into your model, the faster your model is trained. Then you can use a larger sample size to improve your model accuracy score."
   ]
  },
  {
   "cell_type": "code",
   "execution_count": null,
   "metadata": {},
   "outputs": [],
   "source": [
    "# your code here"
   ]
  },
  {
   "cell_type": "markdown",
   "metadata": {},
   "source": [
    "## Bonus Question 2: Machine Learning Pipeline\n",
    "\n",
    "In a new Jupyter Notebook, combine all your codes into a function (or a class). Your new function will execute the complete machine learning pipeline job by receiving the dataset location and output the classifier. This will allow you to use your function to predict the sentiment of any tweet in real time. "
   ]
  },
  {
   "cell_type": "code",
   "execution_count": null,
   "metadata": {},
   "outputs": [],
   "source": [
    "# your code here"
   ]
  },
  {
   "cell_type": "markdown",
   "metadata": {},
   "source": [
    "## Bonus Question 3: Apache Spark\n",
    "\n",
    "If you have completed the Apache Spark advanced topic lab, what you can do is to migrate your pipeline from local to a Databricks Notebook. Share your notebook with your instructor and classmates to show off your achievements!"
   ]
  },
  {
   "cell_type": "code",
   "execution_count": null,
   "metadata": {},
   "outputs": [],
   "source": [
    "# your code here"
   ]
  }
 ],
 "metadata": {
  "kernelspec": {
   "display_name": "Python 3 (ipykernel)",
   "language": "python",
   "name": "python3"
  },
  "language_info": {
   "codemirror_mode": {
    "name": "ipython",
    "version": 3
   },
   "file_extension": ".py",
   "mimetype": "text/x-python",
   "name": "python",
   "nbconvert_exporter": "python",
   "pygments_lexer": "ipython3",
   "version": "3.9.7"
  }
 },
 "nbformat": 4,
 "nbformat_minor": 2
}
